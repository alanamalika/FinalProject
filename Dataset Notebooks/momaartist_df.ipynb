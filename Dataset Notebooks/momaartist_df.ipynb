{
 "cells": [
  {
   "cell_type": "code",
   "execution_count": 16,
   "id": "5ba3dcc1-04ec-468b-ba69-55c9431f53ed",
   "metadata": {},
   "outputs": [],
   "source": [
    "import pandas as pd"
   ]
  },
  {
   "cell_type": "code",
   "execution_count": 18,
   "id": "a8269de7-c6b9-4064-b1fa-92272eaaafe0",
   "metadata": {},
   "outputs": [],
   "source": [
    "artistcsv = pd.read_csv('Artists.csv')\n",
    "nationalities = pd.read_csv('nationality-continent.csv')\n",
    "countrylist = pd.read_csv('country.csv')\n"
   ]
  },
  {
   "cell_type": "code",
   "execution_count": 19,
   "id": "61ddbb60-8665-4eae-b1e9-654655cd201a",
   "metadata": {},
   "outputs": [],
   "source": [
    "artistcsv['Continent'] = ''\n",
    "def continent():\n",
    "    countries = []\n",
    "    for i,row in artistcsv.iterrows():\n",
    "        try:\n",
    "            row['Nationality'] == row['Nationality']\n",
    "            continent = nationalities.loc[nationalities['nationality'] == artistcsv.loc[i,'Nationality'], 'continent'].values[0]\n",
    "        except:\n",
    "            continent = 'Unknown'\n",
    "        countries.append(continent)\n",
    "    return countries"
   ]
  },
  {
   "cell_type": "code",
   "execution_count": 20,
   "id": "985868ff-d018-40bf-a2d8-af596f028c03",
   "metadata": {},
   "outputs": [],
   "source": [
    "artistcsv['Continent'] = continent()"
   ]
  },
  {
   "cell_type": "code",
   "execution_count": 21,
   "id": "2d5a8000-0b42-4391-84d6-14e9706a5a71",
   "metadata": {},
   "outputs": [],
   "source": [
    "artistcsv['Country'] = ''\n",
    "def country():\n",
    "    places = []\n",
    "    for i,row in artistcsv.iterrows():\n",
    "        try:\n",
    "            row['Nationality'] == row['Nationality']\n",
    "            country = countrylist.loc[countrylist['nationality'] == artistcsv.loc[i,'Nationality'], 'country'].values[0]\n",
    "        except:\n",
    "            country = 'Unknown'\n",
    "        places.append(country)\n",
    "    return places"
   ]
  },
  {
   "cell_type": "code",
   "execution_count": 22,
   "id": "60823938-47a5-4786-a283-9f1e34683cdb",
   "metadata": {},
   "outputs": [],
   "source": [
    "artistcsv['Country'] = country()"
   ]
  },
  {
   "cell_type": "code",
   "execution_count": 24,
   "id": "73476d31-0ffc-4fcf-859c-07e35dc3154a",
   "metadata": {},
   "outputs": [],
   "source": [
    "artistcsv.to_csv('momaartist_df.csv')"
   ]
  }
 ],
 "metadata": {
  "kernelspec": {
   "display_name": "Python 3 (ipykernel)",
   "language": "python",
   "name": "python3"
  },
  "language_info": {
   "codemirror_mode": {
    "name": "ipython",
    "version": 3
   },
   "file_extension": ".py",
   "mimetype": "text/x-python",
   "name": "python",
   "nbconvert_exporter": "python",
   "pygments_lexer": "ipython3",
   "version": "3.9.6"
  }
 },
 "nbformat": 4,
 "nbformat_minor": 5
}
